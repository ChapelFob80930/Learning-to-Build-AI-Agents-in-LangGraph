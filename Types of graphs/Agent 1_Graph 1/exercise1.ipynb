{
 "cells": [
  {
   "cell_type": "code",
   "execution_count": 13,
   "id": "c89a5179",
   "metadata": {},
   "outputs": [],
   "source": [
    "from typing import Dict, TypedDict\n",
    "from langgraph.graph import StateGraph"
   ]
  },
  {
   "cell_type": "code",
   "execution_count": 14,
   "id": "ed84f487",
   "metadata": {},
   "outputs": [],
   "source": [
    "class AgentState(TypedDict):\n",
    "    message: str\n",
    "    \n",
    "def compliment_node(state: AgentState) -> AgentState:\n",
    "    \"\"\"Simple node that adds a compliment/hate remark to the state\"\"\"\n",
    "    state['message'] = state['message'] + \" you suck\"\n",
    "    return state"
   ]
  },
  {
   "cell_type": "code",
   "execution_count": 15,
   "id": "3d1eb4e4",
   "metadata": {},
   "outputs": [],
   "source": [
    "graph = StateGraph(AgentState)\n",
    "\n",
    "graph.add_node(\"comp/hate\", compliment_node)\n",
    "\n",
    "graph.set_entry_point(\"comp/hate\")\n",
    "\n",
    "graph.set_finish_point(\"comp/hate\")\n",
    "\n",
    "app = graph.compile()"
   ]
  },
  {
   "cell_type": "code",
   "execution_count": 16,
   "id": "7fb65f09",
   "metadata": {},
   "outputs": [
    {
     "data": {
      "image/png": "[encoded data removed]",
      "text/plain": [
       "<langgraph.graph.state.CompiledStateGraph object at 0x0000016D1C8975E0>"
      ]
     },
     "execution_count": 16,
     "metadata": {},
     "output_type": "execute_result"
    }
   ],
   "source": [
    "app"
   ]
  },
  {
   "cell_type": "code",
   "execution_count": 17,
   "id": "b866ca8c",
   "metadata": {},
   "outputs": [],
   "source": [
    "result = app.invoke({\"message\":\"Sarbojit\"})"
   ]
  },
  {
   "cell_type": "code",
   "execution_count": 18,
   "id": "df097cb4",
   "metadata": {},
   "outputs": [
    {
     "data": {
      "text/plain": [
       "'Sarbojit you suck'"
      ]
     },
     "execution_count": 18,
     "metadata": {},
     "output_type": "execute_result"
    }
   ],
   "source": [
    "result['message']"
   ]
  },
  {
   "cell_type": "code",
   "execution_count": null,
   "id": "333667fc",
   "metadata": {},
   "outputs": [],
   "source": []
  }
 ],
 "metadata": {
  "kernelspec": {
   "display_name": "venv",
   "language": "python",
   "name": "python3"
  },
  "language_info": {
   "codemirror_mode": {
    "name": "ipython",
    "version": 3
   },
   "file_extension": ".py",
   "mimetype": "text/x-python",
   "name": "python",
   "nbconvert_exporter": "python",
   "pygments_lexer": "ipython3",
   "version": "3.10.0"
  }
 },
 "nbformat": 4,
 "nbformat_minor": 5
}
